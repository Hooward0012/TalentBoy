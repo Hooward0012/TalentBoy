{
 "cells": [
  {
   "cell_type": "code",
   "execution_count": 33,
   "metadata": {
    "collapsed": true
   },
   "outputs": [],
   "source": [
    "import numpy as np\n",
    "import torch\n",
    "from torch.utils import data\n",
    "from d2l import torch as d2l\n",
    "\n",
    "true_w = torch.tensor([2, -3.4])\n",
    "true_b = 4.2\n",
    "features, labels = d2l.synthetic_data(true_w, true_b, 100)"
   ]
  },
  {
   "cell_type": "code",
   "execution_count": 34,
   "outputs": [],
   "source": [
    "def load_array(data_arrays, batch_size, is_train=True):  #@save\n",
    "    \"\"\"构造一个PyTorch数据迭代器\"\"\"\n",
    "    dataset = data.TensorDataset(*data_arrays)\n",
    "    return data.DataLoader(dataset, batch_size, shuffle=is_train)\n",
    "\n",
    "batch_size = 10\n",
    "data_iter = load_array((features, labels), batch_size)"
   ],
   "metadata": {
    "collapsed": false
   }
  },
  {
   "cell_type": "code",
   "execution_count": 35,
   "outputs": [
    {
     "data": {
      "text/plain": "[tensor([[-2.0669, -0.1234],\n         [-1.0955, -2.1498],\n         [-0.7441, -1.0654],\n         [-1.5946, -1.2244],\n         [-0.6904,  0.1325],\n         [-0.0223, -2.6058],\n         [ 0.1927,  1.0971],\n         [-0.7378,  0.2652],\n         [ 0.3546,  0.1974],\n         [-1.0488, -0.1667]]),\n tensor([[ 0.4754],\n         [ 9.3217],\n         [ 6.3456],\n         [ 5.1754],\n         [ 2.3751],\n         [13.0068],\n         [ 0.8396],\n         [ 1.8372],\n         [ 4.2369],\n         [ 2.6782]])]"
     },
     "execution_count": 35,
     "metadata": {},
     "output_type": "execute_result"
    }
   ],
   "source": [
    "next(iter(data_iter))"
   ],
   "metadata": {
    "collapsed": false
   }
  },
  {
   "cell_type": "code",
   "execution_count": 5,
   "outputs": [
    {
     "name": "stdout",
     "output_type": "stream",
     "text": [
      "tensor([[ 0.2810, -1.0202],\n",
      "        [ 0.3287,  1.0641],\n",
      "        [-0.2929, -0.1444],\n",
      "        [ 0.2166,  0.1174],\n",
      "        [ 1.1335, -0.0324],\n",
      "        [ 0.0326, -0.3173],\n",
      "        [ 0.4633,  0.1868],\n",
      "        [ 0.0888, -0.6220],\n",
      "        [-1.4894,  0.9906],\n",
      "        [-1.9229,  1.0445]]) tensor([[ 8.2255],\n",
      "        [ 1.2405],\n",
      "        [ 4.1059],\n",
      "        [ 4.2476],\n",
      "        [ 6.5771],\n",
      "        [ 5.3536],\n",
      "        [ 4.4781],\n",
      "        [ 6.4999],\n",
      "        [-2.1455],\n",
      "        [-3.1972]])\n"
     ]
    }
   ],
   "source": [
    "for X, y in data_iter:\n",
    "    print(X, y)\n",
    "    break"
   ],
   "metadata": {
    "collapsed": false
   }
  },
  {
   "cell_type": "code",
   "execution_count": 6,
   "outputs": [],
   "source": [
    "from torch import  nn"
   ],
   "metadata": {
    "collapsed": false
   }
  },
  {
   "cell_type": "code",
   "execution_count": 7,
   "outputs": [],
   "source": [
    "net = nn.Sequential(nn.Linear(2,1))"
   ],
   "metadata": {
    "collapsed": false
   }
  },
  {
   "cell_type": "code",
   "execution_count": 10,
   "outputs": [
    {
     "data": {
      "text/plain": "tensor([0.])"
     },
     "execution_count": 10,
     "metadata": {},
     "output_type": "execute_result"
    }
   ],
   "source": [
    "net[0].weight.data.normal_(0,0.01)\n",
    "net[0].bias.data.fill_(0)"
   ],
   "metadata": {
    "collapsed": false
   }
  },
  {
   "cell_type": "code",
   "execution_count": 11,
   "outputs": [
    {
     "name": "stdout",
     "output_type": "stream",
     "text": [
      "tensor([[0.0024, 0.0060]])\n"
     ]
    }
   ],
   "source": [
    "print(net[0].weight.data)"
   ],
   "metadata": {
    "collapsed": false
   }
  },
  {
   "cell_type": "code",
   "execution_count": 12,
   "outputs": [],
   "source": [
    "loss = nn.MSELoss()"
   ],
   "metadata": {
    "collapsed": false
   }
  },
  {
   "cell_type": "code",
   "execution_count": 13,
   "outputs": [
    {
     "data": {
      "text/plain": "torch.Size([4, 1])"
     },
     "execution_count": 13,
     "metadata": {},
     "output_type": "execute_result"
    }
   ],
   "source": [
    "y_true = torch.tensor([[3.0], [-0.5], [2.0], [8.0]])\n",
    "y_true.shape"
   ],
   "metadata": {
    "collapsed": false
   }
  },
  {
   "cell_type": "code",
   "execution_count": 14,
   "outputs": [
    {
     "data": {
      "text/plain": "2"
     },
     "execution_count": 14,
     "metadata": {},
     "output_type": "execute_result"
    }
   ],
   "source": [
    "y_true.ndimension()"
   ],
   "metadata": {
    "collapsed": false
   }
  },
  {
   "cell_type": "code",
   "execution_count": 15,
   "outputs": [
    {
     "data": {
      "text/plain": "torch.Size([4])"
     },
     "execution_count": 15,
     "metadata": {},
     "output_type": "execute_result"
    }
   ],
   "source": [
    "y_true = torch.tensor([3.0, -0.5, 2.0, 8.0])\n",
    "y_true.shape"
   ],
   "metadata": {
    "collapsed": false
   }
  },
  {
   "cell_type": "code",
   "execution_count": 16,
   "outputs": [],
   "source": [
    "trainer = torch.optim.SGD(net.parameters(), lr= 0.03)"
   ],
   "metadata": {
    "collapsed": false
   }
  },
  {
   "cell_type": "code",
   "execution_count": 18,
   "outputs": [
    {
     "name": "stdout",
     "output_type": "stream",
     "text": [
      "epoch1, loss:0.000102\n",
      "epoch2, loss:0.000101\n",
      "epoch3, loss:0.000101\n"
     ]
    }
   ],
   "source": [
    "num_epoch = 3\n",
    "for epoch in range(num_epoch):\n",
    "    for X, y in data_iter:\n",
    "        prediction = net(X)\n",
    "        trainer.zero_grad()\n",
    "        l = loss(prediction, y)\n",
    "        l.backward()\n",
    "        trainer.step()\n",
    "    l = loss(net(features), labels)\n",
    "    print(f'epoch{epoch + 1}, loss:{l:f}')"
   ],
   "metadata": {
    "collapsed": false
   }
  },
  {
   "cell_type": "code",
   "execution_count": 19,
   "outputs": [
    {
     "data": {
      "text/plain": "(tensor([1., 2.]), tensor([5.]))"
     },
     "execution_count": 19,
     "metadata": {},
     "output_type": "execute_result"
    }
   ],
   "source": [
    "from torch.utils.data import TensorDataset\n",
    "features = torch.tensor([[1.0,2.0],[3.0,4.0], [5.0,6.0]])\n",
    "labels = torch.tensor([[5.0],[11.0],[17.0]])\n",
    "\n",
    "dataset = TensorDataset(features, labels)\n",
    "dataset[0]"
   ],
   "metadata": {
    "collapsed": false
   }
  },
  {
   "cell_type": "code",
   "execution_count": 20,
   "outputs": [
    {
     "name": "stdout",
     "output_type": "stream",
     "text": [
      "[tensor([[1., 2.],\n",
      "        [3., 4.]]), tensor([[ 5.],\n",
      "        [11.]])]\n",
      "[tensor([[5., 6.]]), tensor([[17.]])]\n"
     ]
    }
   ],
   "source": [
    "from torch.utils.data import DataLoader\n",
    "\n",
    "data_iter = DataLoader(dataset, batch_size = 2, shuffle = False)\n",
    "\n",
    "for batch in data_iter:\n",
    "    print(batch)"
   ],
   "metadata": {
    "collapsed": false
   }
  },
  {
   "cell_type": "code",
   "execution_count": 23,
   "outputs": [
    {
     "name": "stdout",
     "output_type": "stream",
     "text": [
      "X:tensor([[1., 2.],\n",
      "        [3., 4.]]), y:tensor([[ 5.],\n",
      "        [11.]])\n",
      "X:tensor([[5., 6.]]), y:tensor([[17.]])\n"
     ]
    }
   ],
   "source": [
    "for X, y in data_iter:\n",
    "    print(f'X:{X}, y:{y}')"
   ],
   "metadata": {
    "collapsed": false
   }
  },
  {
   "cell_type": "code",
   "execution_count": 37,
   "outputs": [
    {
     "name": "stdout",
     "output_type": "stream",
     "text": [
      "X:tensor([[-0.4143, -2.0576],\n",
      "        [-0.4413,  0.0768],\n",
      "        [ 0.0874,  0.7667],\n",
      "        [ 1.3350, -1.3063],\n",
      "        [-0.2990, -0.0916],\n",
      "        [-2.2140, -0.7841],\n",
      "        [-0.1595,  0.1486],\n",
      "        [-1.0363, -0.5497],\n",
      "        [-0.0818, -1.0107],\n",
      "        [ 0.5074, -0.3701]]), y:tensor([[10.3537],\n",
      "        [ 3.0645],\n",
      "        [ 1.7549],\n",
      "        [11.3221],\n",
      "        [ 3.9260],\n",
      "        [ 2.4388],\n",
      "        [ 3.3786],\n",
      "        [ 4.0075],\n",
      "        [ 7.4682],\n",
      "        [ 6.4846]])\n"
     ]
    },
    {
     "ename": "TypeError",
     "evalue": "can only concatenate list (not \"int\") to list",
     "output_type": "error",
     "traceback": [
      "\u001B[1;31m---------------------------------------------------------------------------\u001B[0m",
      "\u001B[1;31mTypeError\u001B[0m                                 Traceback (most recent call last)",
      "Cell \u001B[1;32mIn[37], line 6\u001B[0m\n\u001B[0;32m      4\u001B[0m \u001B[38;5;28mprint\u001B[39m(\u001B[38;5;124mf\u001B[39m\u001B[38;5;124m'\u001B[39m\u001B[38;5;124mX:\u001B[39m\u001B[38;5;132;01m{\u001B[39;00mX\u001B[38;5;132;01m}\u001B[39;00m\u001B[38;5;124m, y:\u001B[39m\u001B[38;5;132;01m{\u001B[39;00my\u001B[38;5;132;01m}\u001B[39;00m\u001B[38;5;124m'\u001B[39m)\n\u001B[0;32m      5\u001B[0m l \u001B[38;5;241m=\u001B[39m loss(net(X), y)\n\u001B[1;32m----> 6\u001B[0m \u001B[38;5;28mprint\u001B[39m(\u001B[38;5;124mf\u001B[39m\u001B[38;5;124m'\u001B[39m\u001B[38;5;124mbatch:\u001B[39m\u001B[38;5;132;01m{\u001B[39;00mbatch\u001B[38;5;241m+\u001B[39m\u001B[38;5;241m1\u001B[39m\u001B[38;5;132;01m}\u001B[39;00m\u001B[38;5;124m, loss:\u001B[39m\u001B[38;5;132;01m{\u001B[39;00ml\u001B[38;5;132;01m:\u001B[39;00m\u001B[38;5;124mf\u001B[39m\u001B[38;5;132;01m}\u001B[39;00m\u001B[38;5;124m'\u001B[39m)\n\u001B[0;32m      7\u001B[0m trainer\u001B[38;5;241m.\u001B[39mzero_grad()\n\u001B[0;32m      8\u001B[0m l\u001B[38;5;241m.\u001B[39mbackward()\n",
      "\u001B[1;31mTypeError\u001B[0m: can only concatenate list (not \"int\") to list"
     ]
    }
   ],
   "source": [
    "num_epochs = 3\n",
    "for epoch in range(num_epochs):\n",
    "    for X, y in data_iter:\n",
    "        print(f'X:{X}, y:{y}')\n",
    "        l = loss(net(X), y)\n",
    "        print(f'batch:{batch+1}, loss:{l:f}')\n",
    "        trainer.zero_grad()\n",
    "        l.backward()\n",
    "        trainer.step()\n",
    "    l = loss(net(features), labels)\n",
    "    print(f'epoch {epoch + 1}, loss {l:f}')"
   ],
   "metadata": {
    "collapsed": false
   }
  },
  {
   "cell_type": "code",
   "execution_count": 42,
   "outputs": [
    {
     "name": "stdout",
     "output_type": "stream",
     "text": [
      "Epoch:1, batch:10, loss:0.000076\n",
      "Epoch:1, overall loss: 0.000078\n",
      "Epoch:2, batch:10, loss:0.000136\n",
      "Epoch:2, overall loss: 0.000078\n",
      "Epoch:3, batch:10, loss:0.000067\n",
      "Epoch:3, overall loss: 0.000078\n"
     ]
    }
   ],
   "source": [
    "num_epoch = 3\n",
    "\n",
    "for epoch in range(num_epoch):\n",
    "    for i, (X,y) in enumerate(data_iter):\n",
    "        l = loss(net(X), y)\n",
    "        trainer.zero_grad()\n",
    "        l.backward\n",
    "        trainer.step()\n",
    "\n",
    "        if(i + 1) % 10 ==0:\n",
    "            print(f'Epoch:{epoch + 1}, batch:{i + 1}, loss:{l:f}')\n",
    "\n",
    "    l = loss(net(features), labels)\n",
    "    print(f'Epoch:{epoch + 1}, overall loss: {l:f}')"
   ],
   "metadata": {
    "collapsed": false
   }
  },
  {
   "cell_type": "code",
   "execution_count": 43,
   "outputs": [
    {
     "data": {
      "text/plain": "tensor([ 2.0000, -3.4000])"
     },
     "execution_count": 43,
     "metadata": {},
     "output_type": "execute_result"
    }
   ],
   "source": [
    "true_w"
   ],
   "metadata": {
    "collapsed": false
   }
  },
  {
   "cell_type": "code",
   "execution_count": 45,
   "outputs": [
    {
     "data": {
      "text/plain": "tensor([[ 1.9994, -3.3993]])"
     },
     "execution_count": 45,
     "metadata": {},
     "output_type": "execute_result"
    }
   ],
   "source": [
    "w = net[0].weight.data\n",
    "w"
   ],
   "metadata": {
    "collapsed": false
   }
  },
  {
   "cell_type": "code",
   "execution_count": 46,
   "outputs": [
    {
     "data": {
      "text/plain": "(torch.Size([2]), torch.Size([1, 2]))"
     },
     "execution_count": 46,
     "metadata": {},
     "output_type": "execute_result"
    }
   ],
   "source": [
    "true_w.shape, w.shape"
   ],
   "metadata": {
    "collapsed": false
   }
  },
  {
   "cell_type": "code",
   "execution_count": 47,
   "outputs": [],
   "source": [
    "t = w.reshape(true_w.shape)"
   ],
   "metadata": {
    "collapsed": false
   }
  },
  {
   "cell_type": "code",
   "execution_count": 48,
   "outputs": [
    {
     "data": {
      "text/plain": "tensor([ 1.9994, -3.3993])"
     },
     "execution_count": 48,
     "metadata": {},
     "output_type": "execute_result"
    }
   ],
   "source": [
    "t"
   ],
   "metadata": {
    "collapsed": false
   }
  },
  {
   "cell_type": "code",
   "execution_count": 49,
   "outputs": [
    {
     "name": "stdout",
     "output_type": "stream",
     "text": [
      "w的误差是：tensor([ 0.0006, -0.0007])\n"
     ]
    }
   ],
   "source": [
    "print(f'w的误差是：{true_w - t}')"
   ],
   "metadata": {
    "collapsed": false
   }
  },
  {
   "cell_type": "code",
   "execution_count": 51,
   "outputs": [
    {
     "name": "stdout",
     "output_type": "stream",
     "text": [
      "b的误差是：tensor([-0.0016])\n"
     ]
    }
   ],
   "source": [
    "b = net[0].bias.data\n",
    "print(f'b的误差是：{true_b - b}')"
   ],
   "metadata": {
    "collapsed": false
   }
  },
  {
   "cell_type": "code",
   "execution_count": null,
   "outputs": [],
   "source": [],
   "metadata": {
    "collapsed": false
   }
  }
 ],
 "metadata": {
  "kernelspec": {
   "name": "pytorch",
   "language": "python",
   "display_name": "Pytorch for Deeplearning"
  },
  "language_info": {
   "codemirror_mode": {
    "name": "ipython",
    "version": 2
   },
   "file_extension": ".py",
   "mimetype": "text/x-python",
   "name": "python",
   "nbconvert_exporter": "python",
   "pygments_lexer": "ipython2",
   "version": "2.7.6"
  }
 },
 "nbformat": 4,
 "nbformat_minor": 0
}
