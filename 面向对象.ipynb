{
 "cells": [
  {
   "cell_type": "code",
   "execution_count": 2,
   "metadata": {
    "collapsed": true
   },
   "outputs": [],
   "source": [
    "str1 = 'howard'"
   ]
  },
  {
   "cell_type": "code",
   "execution_count": 4,
   "outputs": [
    {
     "data": {
      "text/plain": "'curry'"
     },
     "execution_count": 4,
     "metadata": {},
     "output_type": "execute_result"
    }
   ],
   "source": [
    "str1.replace('howard', 'curry')"
   ],
   "metadata": {
    "collapsed": false
   }
  },
  {
   "cell_type": "markdown",
   "source": [
    "# 类的定义\n",
    "-我们定义了一个 __init__ 方法，这个方法是用来初始化的，也就是说，当这个类被实例化之后，就会自动先调用 __init__ 这个方法\n",
    "\n",
    "# 类的属性\n",
    "-self 代表的是实例本身，而 name，age 就是我们刚刚说的，属于这个类的属性\n"
   ],
   "metadata": {
    "collapsed": false
   }
  },
  {
   "cell_type": "code",
   "execution_count": 22,
   "outputs": [],
   "source": [
    "class Person:\n",
    "    def __init__(self, name, age):\n",
    "        self.name = name\n",
    "        self.age = age\n"
   ],
   "metadata": {
    "collapsed": false
   }
  },
  {
   "cell_type": "markdown",
   "source": [
    "# 实例化\n"
   ],
   "metadata": {
    "collapsed": false
   }
  },
  {
   "cell_type": "code",
   "execution_count": 23,
   "outputs": [
    {
     "name": "stdout",
     "output_type": "stream",
     "text": [
      "ben\n",
      "19\n"
     ]
    }
   ],
   "source": [
    "howard = Person('howard',18)\n",
    "ben = Person('ben', 19)\n",
    "print(ben.name)\n",
    "print(ben.age)"
   ],
   "metadata": {
    "collapsed": false
   }
  },
  {
   "cell_type": "markdown",
   "source": [
    "# 类的变量\n",
    "- 我们也可以定义共有的变量，在类里面定义"
   ],
   "metadata": {
    "collapsed": false
   }
  },
  {
   "cell_type": "code",
   "execution_count": 34,
   "outputs": [],
   "source": [
    "class Person:\n",
    "\n",
    "    attr = 'pp'\n",
    "\n",
    "    def __init__(self, name, age):\n",
    "        self.name = name\n",
    "        self.age = age\n",
    "\n"
   ],
   "metadata": {
    "collapsed": false
   }
  },
  {
   "cell_type": "code",
   "execution_count": 36,
   "outputs": [
    {
     "name": "stdout",
     "output_type": "stream",
     "text": [
      "TT\n",
      "pp\n"
     ]
    }
   ],
   "source": [
    "t = Person('TT', 19)\n",
    "print(t.name)\n",
    "print(t.attr)"
   ],
   "metadata": {
    "collapsed": false
   }
  },
  {
   "cell_type": "markdown",
   "source": [
    "# 类的方法\n",
    "- 定义属性之外，还可以定义功能，也就是我们所说的方法"
   ],
   "metadata": {
    "collapsed": false
   }
  },
  {
   "cell_type": "code",
   "execution_count": 40,
   "outputs": [],
   "source": [
    "class Person:\n",
    "\n",
    "    attr = 'pp'\n",
    "\n",
    "    def __init__(self, name, age):\n",
    "        self.name = name\n",
    "        self.age = age\n",
    "\n",
    "    def say(self, something):\n",
    "        return f'{self.name} 说了 {something}'\n",
    "\n",
    "    def eat(self, food):\n",
    "        return f'{self.name} 吃 {food}'\n"
   ],
   "metadata": {
    "collapsed": false
   }
  },
  {
   "cell_type": "code",
   "execution_count": 39,
   "outputs": [
    {
     "name": "stdout",
     "output_type": "stream",
     "text": [
      "howard 吃 ice cream\n",
      "howard 说了 哈哈哈哈哈\n"
     ]
    }
   ],
   "source": [
    "howard = Person('howard', 18)\n",
    "print(howard.eat('ice cream'))\n",
    "print(howard.say('哈哈哈哈哈'))"
   ],
   "metadata": {
    "collapsed": false
   }
  },
  {
   "cell_type": "markdown",
   "source": [
    "# 继承\n",
    "- 子类继承了父类，父类衍生了子类"
   ],
   "metadata": {
    "collapsed": false
   }
  },
  {
   "cell_type": "code",
   "execution_count": 41,
   "outputs": [],
   "source": [
    "class Person:\n",
    "\n",
    "    def __init__(self, name, age):\n",
    "        self.name = name\n",
    "        self.age = age\n",
    "\n",
    "    def say(self, something):\n",
    "        return f'{self.name} 说了 {something}'\n",
    "\n",
    "    def eat(self, food):\n",
    "        return f'{self.name} 吃 {food}'\n",
    "\n",
    "    def play(self, game):\n",
    "        return f'{self.name}, 正在玩 {game}'\n",
    "\n"
   ],
   "metadata": {
    "collapsed": false
   }
  },
  {
   "cell_type": "code",
   "execution_count": 42,
   "outputs": [],
   "source": [
    "class YellowPerson(Person):\n",
    "    pass\n"
   ],
   "metadata": {
    "collapsed": false
   }
  },
  {
   "cell_type": "markdown",
   "source": [
    "只要在 （） 中写上父类即可，这么一写， YellowPeople 这个子类就直接拥有了父类 Person 的所有方法和属性了"
   ],
   "metadata": {
    "collapsed": false
   }
  },
  {
   "cell_type": "code",
   "execution_count": 43,
   "outputs": [
    {
     "data": {
      "text/plain": "'howard, 正在玩 21'"
     },
     "execution_count": 43,
     "metadata": {},
     "output_type": "execute_result"
    }
   ],
   "source": [
    "howard = YellowPerson('howard', 18)\n",
    "howard.play('21')"
   ],
   "metadata": {
    "collapsed": false
   }
  },
  {
   "cell_type": "markdown",
   "source": [
    "这里我实例化出来的是黄种人这个对象，但是我可以直接调用它的父类 Person 的play 方法"
   ],
   "metadata": {
    "collapsed": false
   }
  },
  {
   "cell_type": "code",
   "execution_count": 44,
   "outputs": [],
   "source": [
    "class YellowPerson(Person):\n",
    "    def sing(self, song):\n",
    "        print(f'{self.name} 正在唱 {song}')\n"
   ],
   "metadata": {
    "collapsed": false
   }
  },
  {
   "cell_type": "code",
   "execution_count": 45,
   "outputs": [
    {
     "name": "stdout",
     "output_type": "stream",
     "text": [
      "howard 正在唱 十面埋伏\n"
     ]
    }
   ],
   "source": [
    "howard = YellowPerson('howard', 18)\n",
    "howard.sing('十面埋伏')"
   ],
   "metadata": {
    "collapsed": false
   }
  },
  {
   "cell_type": "markdown",
   "source": [
    "- 自己创建的子类，可以额外定义自己独特的方法和属性"
   ],
   "metadata": {
    "collapsed": false
   }
  },
  {
   "cell_type": "markdown",
   "source": [
    "面向对象中，最大的大佬是 object,刚刚定义的 Person 类，其实它是继承了 object，Python 默认继承最大的大佬，所以我们不需要这样写："
   ],
   "metadata": {
    "collapsed": false
   }
  },
  {
   "cell_type": "code",
   "execution_count": null,
   "outputs": [],
   "source": [
    "class Person(object):\n",
    "    pass"
   ],
   "metadata": {
    "collapsed": false,
    "pycharm": {
     "is_executing": true
    }
   }
  },
  {
   "cell_type": "markdown",
   "source": [
    "# 方法重写\n",
    "-人类有一个吃的方法，子类去继承并调用这个方法的时候，就会打印 “xxx 正在吃xxx” ，但是我们不希望这样，比如我们想要 ： “xxx 正在狼吞虎咽的吃xxx”，这时候就可以重写父类的方法了\n"
   ],
   "metadata": {
    "collapsed": false
   }
  },
  {
   "cell_type": "markdown",
   "source": [
    "父类：\n"
   ],
   "metadata": {
    "collapsed": false
   }
  },
  {
   "cell_type": "code",
   "execution_count": 47,
   "outputs": [],
   "source": [
    "class Person:\n",
    "    def __init__(self, name, age):\n",
    "        self.name = name\n",
    "        self.age = age\n",
    "\n",
    "    def eat(self, food):\n",
    "        print(f'{self.name}, 正在吃 {food}')\n"
   ],
   "metadata": {
    "collapsed": false
   }
  },
  {
   "cell_type": "markdown",
   "source": [
    "子类："
   ],
   "metadata": {
    "collapsed": false
   }
  },
  {
   "cell_type": "code",
   "execution_count": 48,
   "outputs": [],
   "source": [
    "class YellowPeople(Person):\n",
    "    def eat(self, food):\n",
    "        print(f'{self.name}, 正在狼吞虎咽得吃 {food}')"
   ],
   "metadata": {
    "collapsed": false
   }
  },
  {
   "cell_type": "code",
   "execution_count": 50,
   "outputs": [
    {
     "name": "stdout",
     "output_type": "stream",
     "text": [
      "howard 吃 human\n"
     ]
    }
   ],
   "source": [
    "howard = YellowPerson('howard', 18)\n",
    "print(howard.eat('human'))"
   ],
   "metadata": {
    "collapsed": false
   }
  },
  {
   "cell_type": "markdown",
   "source": [
    "这就是方法的重写。我们在定义子类的时候，不需要写 __init__ ,这是因为我们继承了父类，所以默认调用的是父类的 init 方法，如果你想直接调用子类本身的 init ，那么就重写这个方法就好了"
   ],
   "metadata": {
    "collapsed": false
   }
  },
  {
   "cell_type": "markdown",
   "source": [
    "# super\n",
    "- 如果我们在子类想要引用父类的方法或者属性，可以使用 super()"
   ],
   "metadata": {
    "collapsed": false
   }
  },
  {
   "cell_type": "markdown",
   "source": [
    "比如父类有这么一个属性 attr = 666"
   ],
   "metadata": {
    "collapsed": false
   }
  },
  {
   "cell_type": "code",
   "execution_count": 51,
   "outputs": [],
   "source": [
    "class Person:\n",
    "\n",
    "    def __init__(self, name, age):\n",
    "        self.name = name\n",
    "        self.age = age\n",
    "\n",
    "    attr = '666'\n"
   ],
   "metadata": {
    "collapsed": false
   }
  },
  {
   "cell_type": "markdown",
   "source": [
    "子类继承了它，想要使用 attr 这个属性"
   ],
   "metadata": {
    "collapsed": false
   }
  },
  {
   "cell_type": "code",
   "execution_count": 52,
   "outputs": [],
   "source": [
    "class YellowPerson(Person):\n",
    "\n",
    "    def print_some(self):\n",
    "        print('子类使用父类的变量', super().attr)\n"
   ],
   "metadata": {
    "collapsed": false
   }
  },
  {
   "cell_type": "markdown",
   "source": [
    "通过 super() 就可以得到父类，也就是 Person ，然后引用就可以了："
   ],
   "metadata": {
    "collapsed": false
   }
  },
  {
   "cell_type": "markdown",
   "source": [],
   "metadata": {
    "collapsed": false
   }
  },
  {
   "cell_type": "code",
   "execution_count": 53,
   "outputs": [
    {
     "name": "stdout",
     "output_type": "stream",
     "text": [
      "子类使用父类的变量 666\n"
     ]
    }
   ],
   "source": [
    "howard = YellowPerson('howard', 18)\n",
    "howard.print_some()"
   ],
   "metadata": {
    "collapsed": false
   }
  },
  {
   "cell_type": "code",
   "execution_count": null,
   "outputs": [],
   "source": [],
   "metadata": {
    "collapsed": false
   }
  }
 ],
 "metadata": {
  "kernelspec": {
   "display_name": "Python 3",
   "language": "python",
   "name": "python3"
  },
  "language_info": {
   "codemirror_mode": {
    "name": "ipython",
    "version": 2
   },
   "file_extension": ".py",
   "mimetype": "text/x-python",
   "name": "python",
   "nbconvert_exporter": "python",
   "pygments_lexer": "ipython2",
   "version": "2.7.6"
  }
 },
 "nbformat": 4,
 "nbformat_minor": 0
}
